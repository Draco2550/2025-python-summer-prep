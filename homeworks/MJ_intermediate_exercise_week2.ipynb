{
 "cells": [
  {
   "cell_type": "markdown",
   "metadata": {},
   "source": [
    "## ❌ DO NOT EDIT - MAKE A COPY\n",
    "# Q1: Alphabet Slices\n",
    "* Store the first ten letters of the alphabet in a list.\n",
    "* Use a slice to print out the first three letters of the alphabet.\n",
    "* Use a slice to print out any three letters from the middle of your list."
   ]
  },
  {
   "cell_type": "code",
   "execution_count": null,
   "metadata": {},
   "outputs": [
    {
     "name": "stdout",
     "output_type": "stream",
     "text": [
      "['a', 'b', 'c']\n",
      "['e', 'f', 'g']\n"
     ]
    }
   ],
   "source": [
    "# Solve Alphabet slices here. \n",
    "## Extra Credit:  Do this without 'hard coding' the alpahbet.\n",
    "import string\n",
    "alphabet = string.ascii_lowercase\n",
    "alphabet_list = []\n",
    "alphabet_list[:10] = alphabet[:10]\n",
    "print(alphabet_list[:3])\n",
    "print(alphabet_list[int(len(alphabet_list)/2-1):int((len(alphabet_list)/2)+2)])"
   ]
  },
  {
   "cell_type": "markdown",
   "metadata": {},
   "source": [
    "# Q2:  Covert all the rapper names to title case and save them into a new different list. \n",
    "Example: **lil wayne** becomes **Lil Wayne**"
   ]
  },
  {
   "cell_type": "code",
   "execution_count": 15,
   "metadata": {},
   "outputs": [
    {
     "name": "stdout",
     "output_type": "stream",
     "text": [
      "['Lil Wayne', 'Nicki Minaj', 'Drake']\n"
     ]
    }
   ],
   "source": [
    "# Solve rapper names here\n",
    "rappers = ['lil wayne', 'nicki minaj', 'drake']\n",
    "rapper_names_corrected = rappers\n",
    "rapper_names_corrected[0] = rapper_names_corrected[0].title()\n",
    "rapper_names_corrected[1] = rapper_names_corrected[1].title()\n",
    "rapper_names_corrected[2] = rapper_names_corrected[2].title()\n",
    "print(rapper_names_corrected)\n"
   ]
  },
  {
   "cell_type": "markdown",
   "metadata": {},
   "source": [
    "# Q3: Write a function that takes a number and returns:\n",
    "* True if the input number is even.\n",
    "* False if the input number is odd."
   ]
  },
  {
   "cell_type": "code",
   "execution_count": 19,
   "metadata": {},
   "outputs": [
    {
     "name": "stdout",
     "output_type": "stream",
     "text": [
      "True\n"
     ]
    }
   ],
   "source": [
    "# Solve problem here\n",
    "\n",
    "def even_odd(lst):\n",
    "  if lst % 2 == 0 or lst == 0:\n",
    "    return True\n",
    "  else:\n",
    "    return False\n",
    "  \n",
    "\n",
    "print(even_odd(0))"
   ]
  },
  {
   "cell_type": "markdown",
   "metadata": {},
   "source": [
    "# Q4: Find the sum and the average of this list of numbers.\n",
    "\n",
    "Try doing this using a loop.  Then try doing this without using a loop. "
   ]
  },
  {
   "cell_type": "code",
   "execution_count": 20,
   "metadata": {},
   "outputs": [
    {
     "name": "stdout",
     "output_type": "stream",
     "text": [
      "353 35.3\n"
     ]
    }
   ],
   "source": [
    "# Solve problem here:\n",
    "import math\n",
    "my_list = [1, 5, 10, 55, 88, 44, 42, 50, 20, 38]\n",
    "list_sum = sum(my_list)\n",
    "list_average = sum(my_list) / len(my_list)\n",
    "\n",
    "\n",
    "# Keep this as your last line in this cell.\n",
    "print(list_sum, list_average)"
   ]
  },
  {
   "cell_type": "markdown",
   "metadata": {},
   "source": [
    "# Q5: \n",
    "## Write a function that takes a list and returns a new list that has all the duplicates removed.\n",
    "\n",
    "Example input and expected output:\n",
    "- input = `[\"Michele\", \"Robin\", \"Sara\", \"Michele\"]`\n",
    "- expected output = `['Michele', 'Robin', 'Sara']`\n"
   ]
  },
  {
   "cell_type": "code",
   "execution_count": 6,
   "metadata": {},
   "outputs": [
    {
     "name": "stdout",
     "output_type": "stream",
     "text": [
      "['Michele', 'Robin', 'Sara']\n"
     ]
    }
   ],
   "source": [
    "# Solve problem here:\n",
    "\n",
    "names = [\"Michele\", \"Robin\", \"Sara\", \"Michele\"]\n",
    "def remove_duplicates(list):\n",
    "    return sorted(set(list))\n",
    "print(remove_duplicates(names))"
   ]
  },
  {
   "cell_type": "markdown",
   "metadata": {},
   "source": [
    "# Q6: Write a function that takes a list of numbers \n",
    "(for example, `a = [5, 10, 15, 20, 25]`) and returns a new list of only the first and last elements of the given list.\n",
    "\n",
    "Example input and expected output:\n",
    "- input = `[5, 10, 15, 20, 25]`\n",
    "- expected output = `[5, 25]`"
   ]
  },
  {
   "cell_type": "code",
   "execution_count": 5,
   "metadata": {},
   "outputs": [
    {
     "name": "stdout",
     "output_type": "stream",
     "text": [
      "(5, 25)\n"
     ]
    }
   ],
   "source": [
    "# Solve problem here:\n",
    "input_list = [5, 10, 99, 20, 25]\n",
    "def first_and_last(list):\n",
    "    new_list = list[0], list[len(list)-1]\n",
    "    return new_list\n",
    "print(first_and_last(input_list))"
   ]
  },
  {
   "cell_type": "markdown",
   "metadata": {},
   "source": [
    "# Q7: \n",
    "## Implement a function that takes as input three variables, and returns the largest of the three. \n",
    "### Try doing this without using the `max()` function!\n",
    "\n",
    "_**Note:** all three input numbers will always be different, no need to account for a tie._\n",
    "\n",
    "Example input and expected output:\n",
    "- input: `your_function(1, 5, 10)`\n",
    "- expected output:  `10`"
   ]
  },
  {
   "cell_type": "code",
   "execution_count": null,
   "metadata": {},
   "outputs": [
    {
     "name": "stdout",
     "output_type": "stream",
     "text": [
      "7\n"
     ]
    }
   ],
   "source": [
    "# Solve Problem here:\n",
    "\n",
    "def my_max(a, b, c):\n",
    "    # Fill in your code below and return max value of a, b, c\n",
    "    if a > b and a > c:\n",
    "        return a\n",
    "    elif b > c and b > a:\n",
    "        return b\n",
    "    else:\n",
    "        return c\n",
    "    \n",
    "print(my_max(7,5,3))"
   ]
  },
  {
   "cell_type": "code",
   "execution_count": 13,
   "metadata": {},
   "outputs": [
    {
     "name": "stdout",
     "output_type": "stream",
     "text": [
      "10\n"
     ]
    }
   ],
   "source": [
    "# Test to see if your function works properly.\n",
    "print(my_max(1, 5, 10))"
   ]
  },
  {
   "cell_type": "markdown",
   "metadata": {},
   "source": [
    "# Q8: Write a function that takes a number as input and returns the following:\n",
    "* If the input is divisible by three, return `'fizz'`\n",
    "* If the input is divisible by five, return `'buzz'`\n",
    "* If the input is divisible by three and by five, return `'fizzbuzz'`\n",
    "* If the input is not divisible by three or five, return `None`."
   ]
  },
  {
   "cell_type": "code",
   "execution_count": 19,
   "metadata": {},
   "outputs": [
    {
     "name": "stdout",
     "output_type": "stream",
     "text": [
      "fizzbuzz\n"
     ]
    }
   ],
   "source": [
    "# Solve Problem fizzbuzz here:\n",
    "def summer(num):\n",
    "    if num % 3 == 0 and num % 5 == 0:\n",
    "        return \"fizzbuzz\"\n",
    "     \n",
    "    elif num % 3 == 0:\n",
    "        return \"fizz\"\n",
    "\n",
    "    elif num % 5 == 0:\n",
    "        return \"buzz\"\n",
    "    \n",
    "    else:\n",
    "        return None\n",
    "\n",
    "print(summer(15))"
   ]
  }
 ],
 "metadata": {
  "kernelspec": {
   "display_name": "Python 3",
   "language": "python",
   "name": "python3"
  },
  "language_info": {
   "codemirror_mode": {
    "name": "ipython",
    "version": 3
   },
   "file_extension": ".py",
   "mimetype": "text/x-python",
   "name": "python",
   "nbconvert_exporter": "python",
   "pygments_lexer": "ipython3",
   "version": "3.12.1"
  }
 },
 "nbformat": 4,
 "nbformat_minor": 4
}
